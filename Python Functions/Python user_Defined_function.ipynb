{
 "cells": [
  {
   "cell_type": "markdown",
   "id": "f14f91ae-c8f1-470e-adec-b5af6a815480",
   "metadata": {},
   "source": [
    "# Python function\n",
    "In Python, a function is a block of reusable code that performs a specific task wherever it is called . Functions help to organize code, make it more readable, and avoid repetition."
   ]
  },
  {
   "cell_type": "markdown",
   "id": "62e9d0fb-3435-486a-9678-f010b7c0aa65",
   "metadata": {},
   "source": [
    "# User-Defined Functions in Python\n",
    "A user-defined function is a function that you create yourself using the def keyword. It allows you to structure your code, improve reusability, and make it more readable."
   ]
  },
  {
   "cell_type": "markdown",
   "id": "4ed68e09-dd07-4d16-8f6e-2abba1fd2fbc",
   "metadata": {},
   "source": [
    "# Syntax of a User-Defined Function"
   ]
  },
  {
   "cell_type": "code",
   "execution_count": 5,
   "id": "bbfc7fe1-5b9d-499d-a596-8e62ec32087f",
   "metadata": {},
   "outputs": [],
   "source": [
    "def function_name(parameters):\n",
    "    \"\"\"Optional docstring (describes what the function does)\"\"\"\n",
    "    # Function body (code)\n",
    "    return value  # Optional return statement\n"
   ]
  },
  {
   "cell_type": "code",
   "execution_count": 11,
   "id": "f5c9c71c-250c-49ae-b6bb-e2c1406c7c03",
   "metadata": {},
   "outputs": [
    {
     "name": "stdout",
     "output_type": "stream",
     "text": [
      "Hello!, I'm Apurva , Welcome to Python\n"
     ]
    }
   ],
   "source": [
    "# Code  1: Simple Function\n",
    "# A function that prints a greeting message\n",
    "def greet():\n",
    "    print (\"Hello!, I'm Apurva , Welcome to Python\")\n",
    "greet() # Calling the function\n"
   ]
  },
  {
   "cell_type": "code",
   "execution_count": 15,
   "id": "18b4147c-7b8b-48cf-993f-8b242ebd2029",
   "metadata": {},
   "outputs": [
    {
     "name": "stdout",
     "output_type": "stream",
     "text": [
      "Hello!,I'm Apurva , Welcome to Python Rohan\n",
      "Hello!,I'm Apurva , Welcome to Python BOB\n"
     ]
    }
   ],
   "source": [
    "# 2: Function with Parameters\n",
    "# A function that takes a name as an argument and greets the user:\n",
    "def greet(Name):\n",
    "    print (f\"Hello!,I'm Apurva , Welcome to Python {Name}\")\n",
    "greet(\"Rohan\")\n",
    "greet(\"BOB\")"
   ]
  },
  {
   "cell_type": "code",
   "execution_count": 23,
   "id": "38a13260-b063-46b7-8cb5-c601149dee3b",
   "metadata": {},
   "outputs": [
    {
     "name": "stdout",
     "output_type": "stream",
     "text": [
      "Sum: 12\n"
     ]
    }
   ],
   "source": [
    "# 3: Function with Return Value\n",
    "# A function that adds two numbers and returns the result:\n",
    "def add(a,b):\n",
    "    return a+b\n",
    "Result = add(3,9)\n",
    "print (\"Sum:\", Result)\n"
   ]
  },
  {
   "cell_type": "code",
   "execution_count": 29,
   "id": "a053dc26-0669-44f7-b0c7-ef094ef5ba1a",
   "metadata": {},
   "outputs": [
    {
     "name": "stdout",
     "output_type": "stream",
     "text": [
      "Hello !!,Guest\n",
      " I'm Apurva , Welcome to Datamits,\n",
      "Hello !!,John\n",
      " I'm Apurva , Welcome to Datamits,\n"
     ]
    }
   ],
   "source": [
    "#4: Function with Default Parameters\n",
    "# A function that provides a default value for a parameter:\n",
    "def greet(Name=\"Guest\"):\n",
    "    print (f\"Hello !!,{Name}\\n I'm Apurva , Welcome to Datamits,\")\n",
    "\n",
    "greet()         # Uses default value\n",
    "greet(\"John\")   # Uses provided value\n"
   ]
  },
  {
   "cell_type": "code",
   "execution_count": 37,
   "id": "9a29df66-244a-4772-b8af-103a63d1c136",
   "metadata": {},
   "outputs": [
    {
     "name": "stdout",
     "output_type": "stream",
     "text": [
      "15\n"
     ]
    }
   ],
   "source": [
    "# 5: Function with Multiple Arguments (*args)\n",
    "# A function that accepts multiple values:\n",
    "def sum_all(*numbers):\n",
    "    return sum(numbers)\n",
    "print (sum_all(1,2,3,4,5))# Output: 15\n"
   ]
  },
  {
   "cell_type": "code",
   "execution_count": 41,
   "id": "4de465b5-6706-41f5-aa38-f4b515aafd6f",
   "metadata": {},
   "outputs": [
    {
     "name": "stdout",
     "output_type": "stream",
     "text": [
      "name: Alice\n",
      "age: 25\n",
      "city: New York\n"
     ]
    }
   ],
   "source": [
    "# 6: Function with Keyword Arguments (**kwargs)\n",
    "# A function that takes multiple named arguments:\n",
    "def person_info(**details):\n",
    "    for key, value in details.items():\n",
    "        print(f\"{key}: {value}\")\n",
    "\n",
    "person_info(name=\"Alice\", age=25, city=\"New York\")\n"
   ]
  },
  {
   "cell_type": "code",
   "execution_count": 63,
   "id": "e86cd0a2-8fb6-4658-9515-83087a13d901",
   "metadata": {},
   "outputs": [
    {
     "name": "stdout",
     "output_type": "stream",
     "text": [
      "Square of 8 : 64\n",
      "addition : 10\n",
      "Multiplication: 35\n"
     ]
    }
   ],
   "source": [
    "# 7: Lambda Function (Short Anonymous Function)\n",
    "square = lambda x: x * x\n",
    "print(\"Square of 8 :\",square(8))  # Output: 64\n",
    "\n",
    "add= lambda a,b: a+b\n",
    "print (\"addition :\",add(3,7))\n",
    "Multiply= lambda a,b: a*b\n",
    "print (\"Multiplication:\",Multiply(5,7))"
   ]
  },
  {
   "cell_type": "markdown",
   "id": "7b1ef2a7-f420-4e31-878b-f1a6c21848fe",
   "metadata": {},
   "source": [
    "# GMean or Geometric Mean \n",
    "geometric mean finds the central tendency by multiplying all numbers and taking the nth root.\n",
    "Geometric Mean Used?\n",
    "✅ Finance – Interest rates, stock returns\n",
    "✅ Science & Engineering – Growth rates, ratios\n",
    "✅ Machine Learning – Data transformations"
   ]
  },
  {
   "cell_type": "code",
   "execution_count": 117,
   "id": "18886837-36d7-40f8-8a3c-7f0a40d16bdb",
   "metadata": {},
   "outputs": [
    {
     "name": "stdout",
     "output_type": "stream",
     "text": [
      "1st number is greater\n",
      "4.235294117647059\n",
      "1st number is greater\n",
      "3.7333333333333334\n"
     ]
    }
   ],
   "source": [
    "def calculateGmean(a,b):\n",
    "    mean= (a*b)/(a+b)\n",
    "    print(mean)\n",
    "\n",
    "def isGreater(a,b):\n",
    " if (a>b):\n",
    "    print (\"1st number is greater\")\n",
    " else :\n",
    "    print (\"2nd number is greater\")\n",
    "def isLesser(a,b):\n",
    "    pass  # Example: Empty Function Using pass,This prevents an error and acts as a placeholder\n",
    "     \n",
    "a=9\n",
    "b=8\n",
    "#gmean= (a*b)/(a+b)\n",
    "#print (gmean)\n",
    "isGreater(a,b)\n",
    "calculateGmean(a,b)\n",
    "c=8\n",
    "d=7\n",
    "#gmean2= (c*d)/(c+d)\n",
    "#print (gmean2)\n",
    "isGreater(c,d)\n",
    "calculateGmean(c,d)"
   ]
  },
  {
   "cell_type": "markdown",
   "id": "75362fb9-a9af-4c64-8ef8-10d7b0b3cf64",
   "metadata": {},
   "source": [
    "# When Should I Use a Function?\n",
    "If a part of your program does a specific task, you should create a function for it.\n",
    "\n",
    "It is especially useful to create a function if you need to run that code more than once, and from different parts of your program.\n",
    "\n"
   ]
  },
  {
   "cell_type": "code",
   "execution_count": 84,
   "id": "86601697-6fe2-4c8b-a94b-9184d107c783",
   "metadata": {},
   "outputs": [
    {
     "name": "stdout",
     "output_type": "stream",
     "text": [
      "Fahrenheit to Celsius:  37.77777777777778\n",
      "1°F is equal to -17.22°C\n",
      "2°F is equal to -16.67°C\n",
      "3°F is equal to -16.11°C\n",
      "4°F is equal to -15.56°C\n",
      "5°F is equal to -15.00°C\n",
      "6°F is equal to -14.44°C\n",
      "7°F is equal to -13.89°C\n",
      "8°F is equal to -13.33°C\n",
      "9°F is equal to -12.78°C\n",
      "10°F is equal to -12.22°C\n"
     ]
    }
   ],
   "source": [
    "# Creating our convertToCelsius function \n",
    "def convertToCelsius(fahrenheit):\n",
    "  celsius = (fahrenheit-32)*5/9\n",
    "  return celsius\n",
    "print (\"Fahrenheit to Celsius: \",convertToCelsius(100))\n",
    "\n",
    "def convertToCelsius(*fahrenheit):\n",
    "    return [(f,(f-32)*5/9) for f in fahrenheit]\n",
    "Temp_fahrenheit=[1,2,3,4,5,6,7,8,9,10]\n",
    "Celsius= convertToCelsius(*Temp_fahrenheit)\n",
    "# Display results\n",
    "for f, c in Celsius:\n",
    "    print(f\"{f}°F is equal to {c:.2f}°C\") #  round the Celsius value to two decimal places for better readability.\n"
   ]
  },
  {
   "cell_type": "markdown",
   "id": "b02b5722-6f69-4027-8866-f5754269a920",
   "metadata": {},
   "source": [
    "# The Benefits of Using Functions\n",
    "The more programming you do, and the longer your programs get, the benefits from using functions become more and more obvious.\n",
    "\n",
    "The benefits we get from wrapping code that does a specific task into a function are many.\n",
    "\n",
    "Reusability: Write the code once, and reuse it as many times as you like, from different parts of your program. This saves time and effort, and you avoid repetition.\n",
    "\n",
    "Simpler programs: Functions make it easier to break down complex problems into smaller, more manageable pieces. This way of solving a problem is called divide and conquer.\n",
    "\n",
    "Readability: Creating functions for tasks, with names describing what the functions do, makes it easier to understand the code by reading it.\n",
    "\n",
    "It is easier to understand what this line of code does:\n",
    "\n",
    "convertToCelsius(60)\n",
    "than this:\n",
    "\n",
    "(60 - 32) * 5 / 9\n",
    "Fixing errors: If there is something wrong with the code inside the function, we only need to change the code in one place, so the code becomes easier to maintain. Alternatively, without using a function, the code with the error in it would perhaps be repeated many times in many places, making the error harder to fix.\n",
    "\n",
    "Collaboration: People can work together more easily when splitting the problem into functions that can be written separately. Functions create clear boundaries between parts of the program.\n",
    "\n",
    "Testing: Functions can be tested independently to ensure they work correctly.\n",
    "\n",
    "Scalability: Functions make it easier to expand and add new features to your programs.\n",
    "\n",
    "Abstraction: Allows you to hide complex details and focus on what the function does instead of how it works.\n",
    "\n"
   ]
  },
  {
   "cell_type": "code",
   "execution_count": null,
   "id": "6e3ffd6a-0d1d-42db-b89f-9e0e433d7a9c",
   "metadata": {},
   "outputs": [],
   "source": []
  }
 ],
 "metadata": {
  "kernelspec": {
   "display_name": "Python 3 (ipykernel)",
   "language": "python",
   "name": "python3"
  },
  "language_info": {
   "codemirror_mode": {
    "name": "ipython",
    "version": 3
   },
   "file_extension": ".py",
   "mimetype": "text/x-python",
   "name": "python",
   "nbconvert_exporter": "python",
   "pygments_lexer": "ipython3",
   "version": "3.12.7"
  }
 },
 "nbformat": 4,
 "nbformat_minor": 5
}
